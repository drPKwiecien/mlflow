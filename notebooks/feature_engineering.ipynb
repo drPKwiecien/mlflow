{
 "cells": [
  {
   "cell_type": "code",
   "execution_count": 27,
   "metadata": {},
   "outputs": [],
   "source": [
    "import pandas as pd\n",
    "from sklearn.model_selection import train_test_split\n",
    "from sklearn.linear_model import LogisticRegression\n",
    "from sklearn.metrics import accuracy_score\n",
    "import mlflow \n",
    "from mlflow.models import infer_signature\n",
    "from sklearn.preprocessing import OneHotEncoder\n"
   ]
  },
  {
   "cell_type": "code",
   "execution_count": 2,
   "metadata": {},
   "outputs": [],
   "source": [
    "mlflow.set_tracking_uri(uri=\"http://127.0.0.1:5000\")"
   ]
  },
  {
   "cell_type": "code",
   "execution_count": 55,
   "metadata": {},
   "outputs": [],
   "source": [
    "# feature engineering"
   ]
  },
  {
   "cell_type": "code",
   "execution_count": 59,
   "metadata": {},
   "outputs": [
    {
     "name": "stderr",
     "output_type": "stream",
     "text": [
      "C:\\Users\\pkwiecien\\AppData\\Local\\Temp\\ipykernel_29180\\1464717810.py:20: SettingWithCopyWarning: \n",
      "A value is trying to be set on a copy of a slice from a DataFrame\n",
      "\n",
      "See the caveats in the documentation: https://pandas.pydata.org/pandas-docs/stable/user_guide/indexing.html#returning-a-view-versus-a-copy\n",
      "  data['Is_Married'].loc[data['Title'] == 'Mrs'] = 1\n",
      "c:\\Users\\pkwiecien\\AppData\\Local\\anaconda3\\lib\\site-packages\\sklearn\\preprocessing\\_encoders.py:828: FutureWarning: `sparse` was renamed to `sparse_output` in version 1.2 and will be removed in 1.4. `sparse_output` is ignored unless you leave `sparse` to its default value.\n",
      "  warnings.warn(\n"
     ]
    }
   ],
   "source": [
    "data = pd.read_csv('../data/train.csv', index_col='PassengerId')\n",
    "data['Embarked'] = data['Embarked'].fillna('S')\n",
    "data['Fare'] = data['Fare'].fillna(data.groupby(['Pclass', 'Parch', 'SibSp']).Fare.median()[3][0][0])\n",
    "data['Age'] = data['Age'].fillna(data.Age.median())\n",
    "# Creating Deck column from the first letter of the Cabin column (M stands for Missing)\n",
    "data['Deck'] = data['Cabin'].apply(lambda s: s[0] if pd.notnull(s) else 'M')\n",
    "# Passenger in the T deck is changed to A\n",
    "idx = data[data['Deck'] == 'T'].index\n",
    "data.loc[idx, 'Deck'] = 'A'\n",
    "data['Deck'] = data['Deck'].replace(['A', 'B', 'C'], 'ABC')\n",
    "data['Deck'] = data['Deck'].replace(['D', 'E'], 'DE')\n",
    "data['Deck'] = data['Deck'].replace(['F', 'G'], 'FG')\n",
    "data.drop(['Cabin'], inplace=True, axis=1)\n",
    "data['Family_Size'] = data['SibSp'] + data['Parch'] + 1\n",
    "family_map = {1: 'Alone', 2: 'Small', 3: 'Small', 4: 'Small', 5: 'Medium', 6: 'Medium', 7: 'Large', 8: 'Large', 11: 'Large'}\n",
    "data['Family_Size_Grouped'] = data['Family_Size'].map(family_map)\n",
    "data['Ticket_Frequency'] = data.groupby('Ticket')['Ticket'].transform('count')\n",
    "data['Title'] = data['Name'].str.split(', ', expand=True)[1].str.split('.', expand=True)[0]\n",
    "data['Is_Married'] = 0\n",
    "data['Is_Married'].loc[data['Title'] == 'Mrs'] = 1\n",
    "data['Title'] = data['Title'].replace(['Miss', 'Mrs','Ms', 'Mlle', 'Lady', 'Mme', 'the Countess', 'Dona'], 'Miss/Mrs/Ms')\n",
    "data['Title'] = data['Title'].replace(['Dr', 'Col', 'Major', 'Jonkheer', 'Capt', 'Sir', 'Don', 'Rev'], 'Dr/Military/Noble/Clergy')\n",
    "cat_features = ['Pclass', 'Sex', 'Deck', 'Embarked', 'Title', 'Family_Size_Grouped']\n",
    "\n",
    "encoder = OneHotEncoder(sparse=False)  # Set sparse=False to get a dense array\n",
    "encoded_features = encoder.fit_transform(data[cat_features])\n",
    "encoded_feature_names = encoder.get_feature_names_out(cat_features)\n",
    "\n",
    "# Create a DataFrame from the encoded features and set the index to align with the original DataFrame\n",
    "encoded_data = pd.DataFrame(encoded_features, columns=encoded_feature_names, index=data.index)\n",
    "\n",
    "# Concatenate the original DataFrame with the new encoded features\n",
    "data = pd.concat([data, encoded_data], axis=1)\n",
    "\n",
    "# Optionally, drop the original categorical columns if they are no longer needed\n",
    "data.drop(cat_features, axis=1, inplace=True)\n",
    "\n",
    "drop_cols = [  'Family_Size',  'Name', 'Parch',   'SibSp', 'Ticket']\n",
    "data.drop(drop_cols, axis=1, inplace=True)\n",
    "data.to_csv('../data/train_cleaned.csv', index=False)"
   ]
  },
  {
   "cell_type": "code",
   "execution_count": 60,
   "metadata": {},
   "outputs": [
    {
     "name": "stderr",
     "output_type": "stream",
     "text": [
      "c:\\Users\\pkwiecien\\AppData\\Local\\anaconda3\\lib\\site-packages\\sklearn\\linear_model\\_logistic.py:458: ConvergenceWarning: lbfgs failed to converge (status=1):\n",
      "STOP: TOTAL NO. of ITERATIONS REACHED LIMIT.\n",
      "\n",
      "Increase the number of iterations (max_iter) or scale the data as shown in:\n",
      "    https://scikit-learn.org/stable/modules/preprocessing.html\n",
      "Please also refer to the documentation for alternative solver options:\n",
      "    https://scikit-learn.org/stable/modules/linear_model.html#logistic-regression\n",
      "  n_iter_i = _check_optimize_result(\n"
     ]
    }
   ],
   "source": [
    "X = data.drop('Survived', axis=1)\n",
    "y = data['Survived']\n",
    "X_train, X_test, y_train, y_test = train_test_split(X, y, test_size=0.2, random_state=42)\n",
    "params = {'C': 1.0, 'class_weight': None, 'dual': False, 'fit_intercept': True, 'intercept_scaling': 1, 'l1_ratio': None, 'max_iter': 100, 'multi_class': 'auto', 'n_jobs': None, 'penalty': 'l2', 'random_state': None, 'solver': 'lbfgs', 'tol': 0.0001, 'verbose': 0, 'warm_start': False}\n",
    "lr = LogisticRegression(**params)\n",
    "lr.fit(X_train, y_train)\n",
    "\n",
    "y_pred = lr.predict(X_test)\n",
    "\n",
    "accuracy = accuracy_score(y_test, y_pred)   "
   ]
  },
  {
   "cell_type": "code",
   "execution_count": 61,
   "metadata": {},
   "outputs": [
    {
     "name": "stderr",
     "output_type": "stream",
     "text": [
      "c:\\Users\\pkwiecien\\AppData\\Local\\anaconda3\\lib\\site-packages\\mlflow\\models\\signature.py:212: UserWarning: Hint: Inferred schema contains integer column(s). Integer columns in Python cannot represent missing values. If your input data contains missing values at inference time, it will be encoded as floats and will cause a schema enforcement error. The best way to avoid this problem is to infer the model schema based on a realistic data sample (training dataset) that includes missing values. Alternatively, you can declare integer columns as doubles (float64) whenever these columns may have missing values. See `Handling Integers With Missing Values <https://www.mlflow.org/docs/latest/models.html#handling-integers-with-missing-values>`_ for more details.\n",
      "  inputs = _infer_schema(model_input) if model_input is not None else None\n",
      "c:\\Users\\pkwiecien\\AppData\\Local\\anaconda3\\lib\\site-packages\\_distutils_hack\\__init__.py:33: UserWarning: Setuptools is replacing distutils.\n",
      "  warnings.warn(\"Setuptools is replacing distutils.\")\n",
      "Successfully registered model 'lr2'.\n",
      "2024/02/27 20:41:05 INFO mlflow.store.model_registry.abstract_store: Waiting up to 300 seconds for model version to finish creation. Model name: lr2, version 1\n",
      "Created version '1' of model 'lr2'.\n"
     ]
    }
   ],
   "source": [
    "experiment_description = (\n",
    "    \"test mlflow na bazie setu titanic\"\n",
    ")\n",
    "\n",
    "experiment_tags = {\n",
    "    \"project_name\": \"titanic-mlflow-test\",\n",
    "    \"owner\": \"pkwiecien\",\n",
    "    \"mlflow.note.content\": experiment_description,\n",
    "}\n",
    "\n",
    "mlflow.create_experiment(name=\"fe\", tags=experiment_tags)\n",
    "\n",
    "mlflow.set_experiment(\"fe\")\n",
    "\n",
    "run_name = \"fe_LR\"\n",
    "\n",
    "artifact_path = \"LR2\"\n",
    "\n",
    "metrics = {\n",
    "    \"accuracy\": accuracy,\n",
    "}\n",
    "\n",
    "signature = infer_signature(X_train, lr.predict(X_train))\n",
    "\n",
    "\n",
    "with mlflow.start_run(run_name=run_name) as run:\n",
    "    mlflow.log_params(params)\n",
    "    mlflow.log_metrics(metrics)\n",
    "    mlflow.sklearn.log_model(sk_model=lr, input_example=X_train, signature=signature, artifact_path=artifact_path,registered_model_name=\"lr2\")"
   ]
  },
  {
   "cell_type": "code",
   "execution_count": 51,
   "metadata": {},
   "outputs": [],
   "source": []
  },
  {
   "cell_type": "code",
   "execution_count": null,
   "metadata": {},
   "outputs": [],
   "source": []
  }
 ],
 "metadata": {
  "kernelspec": {
   "display_name": "base",
   "language": "python",
   "name": "python3"
  },
  "language_info": {
   "codemirror_mode": {
    "name": "ipython",
    "version": 3
   },
   "file_extension": ".py",
   "mimetype": "text/x-python",
   "name": "python",
   "nbconvert_exporter": "python",
   "pygments_lexer": "ipython3",
   "version": "3.10.9"
  }
 },
 "nbformat": 4,
 "nbformat_minor": 2
}
